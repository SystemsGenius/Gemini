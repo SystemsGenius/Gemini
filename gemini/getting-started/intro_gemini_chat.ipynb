{
 "cells": [
  {
   "cell_type": "code",
   "execution_count": null,
   "metadata": {
    "id": "ijGzTHJJUCPY"
   },
   "outputs": [],
   "source": [
    "# Copyright 2024 Google LLC\n",
    "#\n",
    "# Licensed under the Apache License, Version 2.0 (the \"License\");\n",
    "# you may not use this file except in compliance with the License.\n",
    "# You may obtain a copy of the License at\n",
    "#\n",
    "#     https://www.apache.org/licenses/LICENSE-2.0\n",
    "#\n",
    "# Unless required by applicable law or agreed to in writing, software\n",
    "# distributed under the License is distributed on an \"AS IS\" BASIS,\n",
    "# WITHOUT WARRANTIES OR CONDITIONS OF ANY KIND, either express or implied.\n",
    "# See the License for the specific language governing permissions and\n",
    "# limitations under the License."
   ]
  },
  {
   "cell_type": "markdown",
   "metadata": {
    "id": "VEqbX8OhE8y9"
   },
   "source": [
    "# Getting started to chat with the Gemini Pro model\n",
    "\n",
    "\n",
    "\n",
    "<table align=\"left\">\n",
    "  <td style=\"text-align: center\">\n",
    "    <a href=\"https://colab.research.google.com/github/GoogleCloudPlatform/generative-ai/blob/main/gemini/getting-started/intro_gemini_chat.ipynb\">\n",
    "      <img src=\"https://cloud.google.com/ml-engine/images/colab-logo-32px.png\" alt=\"Google Colaboratory logo\"><br> Run in Colab\n",
    "    </a>\n",
    "  </td>\n",
    "  <td style=\"text-align: center\">\n",
    "    <a href=\"https://github.com/GoogleCloudPlatform/generative-ai/blob/main/gemini/getting-started/intro_gemini_chat.ipynb\">\n",
    "      <img src=\"https://cloud.google.com/ml-engine/images/github-logo-32px.png\" alt=\"GitHub logo\"><br> View on GitHub\n",
    "    </a>\n",
    "  </td>\n",
    "  <td style=\"text-align: center\">\n",
    "    <a href=\"https://console.cloud.google.com/vertex-ai/workbench/deploy-notebook?download_url=https://raw.githubusercontent.com/GoogleCloudPlatform/generative-ai/blob/main/gemini/getting-started/intro_gemini_chat.ipynb\">\n",
    "      <img src=\"https://lh3.googleusercontent.com/UiNooY4LUgW_oTvpsNhPpQzsstV5W8F7rYgxgGBD85cWJoLmrOzhVs_ksK_vgx40SHs7jCqkTkCk=e14-rj-sc0xffffff-h130-w32\" alt=\"Vertex AI logo\"><br> Open in Vertex AI Workbench\n",
    "    </a>\n",
    "  </td>\n",
    "</table>\n"
   ]
  },
  {
   "cell_type": "markdown",
   "metadata": {
    "id": "CkHPv2myT2cx"
   },
   "source": [
    "## Overview\n",
    "\n",
    "This notebook demonstrates how to send chat prompts to the Gemini Pro model (`gemini-pro`) by using the Vertex AI SDK for Python and LangChain. Gemini Pro supports prompts with text-only input, including natural language tasks, multi-turn text and code chat, and code generation. It can output text and code.\n",
    "\n",
    "Learn more about [Sending chat prompt requests (Gemini)](https://cloud.google.com/vertex-ai/docs/generative-ai/multimodal/send-chat-prompts-gemini)."
   ]
  },
  {
   "cell_type": "markdown",
   "metadata": {
    "id": "DrkcqHrrwMAo"
   },
   "source": [
    "### Objectives\n",
    "\n",
    "In this tutorial, you learn how to send chat prompts to the Gemini Pro model (`gemini-pro`) using the Vertex AI SDK for Python and LangChain.\n",
    "\n",
    "You will complete the following tasks:\n",
    "\n",
    "- Sending chat prompts using Vertex AI SDK for Python\n",
    "- Sending chat prompts using LangChain"
   ]
  },
  {
   "cell_type": "markdown",
   "metadata": {
    "id": "C9nEPojogw-g"
   },
   "source": [
    "### Costs\n",
    "This tutorial uses billable components of Google Cloud:\n",
    "\n",
    "- Vertex AI\n",
    "\n",
    "Learn about [Vertex AI pricing](https://cloud.google.com/vertex-ai/pricing) and use the [Pricing Calculator](https://cloud.google.com/products/calculator/) to generate a cost estimate based on your projected usage."
   ]
  },
  {
   "cell_type": "markdown",
   "metadata": {
    "id": "r11Gu7qNgx1p"
   },
   "source": [
    "## Getting Started"
   ]
  },
  {
   "cell_type": "markdown",
   "metadata": {
    "id": "No17Cw5hgx12"
   },
   "source": [
    "### Install libraries\n"
   ]
  },
  {
   "cell_type": "code",
   "execution_count": 1,
   "metadata": {
    "id": "tFy3H3aPgx12"
   },
   "outputs": [],
   "source": [
    "! pip3 install --upgrade --quiet google-cloud-aiplatform \\\n",
    "                                 langchain-google-vertexai \\\n",
    "                                 langchain"
   ]
  },
  {
   "cell_type": "markdown",
   "metadata": {
    "id": "j7UyNVSiyQ96"
   },
   "source": [
    "### Restart current runtime\n",
    "\n",
    "To use the newly installed packages in this Jupyter runtime, you must restart the runtime. You can do this by running the cell below, which restarts the current kernel.\n",
    "\n",
    "The restart might take a minute or longer. After its restarted, continue to the next step."
   ]
  },
  {
   "cell_type": "code",
   "execution_count": 2,
   "metadata": {
    "id": "YmY9HVVGSBW5"
   },
   "outputs": [
    {
     "data": {
      "text/plain": [
       "{'status': 'ok', 'restart': True}"
      ]
     },
     "execution_count": 2,
     "metadata": {},
     "output_type": "execute_result"
    }
   ],
   "source": [
    "import IPython\n",
    "\n",
    "app = IPython.Application.instance()\n",
    "app.kernel.do_shutdown(True)"
   ]
  },
  {
   "cell_type": "markdown",
   "metadata": {
    "id": "EXQZrM5hQeKb"
   },
   "source": [
    "<div class=\"alert alert-block alert-warning\">\n",
    "<b>⚠️ Wait for the kernel to finish restarting before you continue. ⚠️</b>\n",
    "</div>"
   ]
  },
  {
   "cell_type": "markdown",
   "metadata": {
    "id": "dmWOrTJ3gx13"
   },
   "source": [
    "### Authenticate your notebook environment (Colab only)\n",
    "\n",
    "If you are running this notebook on Google Colab, run the cell below to authenticate your environment.\n",
    "\n",
    "This step is not required if you are using [Vertex AI Workbench](https://cloud.google.com/vertex-ai-workbench)."
   ]
  },
  {
   "cell_type": "code",
   "execution_count": 2,
   "metadata": {
    "id": "NyKGtVQjgx13"
   },
   "outputs": [],
   "source": [
    "import sys\n",
    "\n",
    "# Additional authentication is required for Google Colab\n",
    "if \"google.colab\" in sys.modules:\n",
    "    # Authenticate user to Google Cloud\n",
    "    from google.colab import auth\n",
    "\n",
    "    auth.authenticate_user()"
   ]
  },
  {
   "cell_type": "markdown",
   "metadata": {
    "id": "DF4l8DTdWgPY"
   },
   "source": [
    "### Define Google Cloud project information (Colab only)\n",
    "\n",
    "If you are running this notebook on Google Colab, you need to define Google Cloud project information to be used. In the following cell, you will define the information, import the Vertex AI package, and initialize it.\n",
    "\n",
    "This step is not required if you are using [Vertex AI Workbench](https://cloud.google.com/vertex-ai-workbench)."
   ]
  },
  {
   "cell_type": "code",
   "execution_count": 3,
   "metadata": {
    "id": "Nqwi-5ufWp_B"
   },
   "outputs": [],
   "source": [
    "if \"google.colab\" in sys.modules:\n",
    "    # Define project information\n",
    "    PROJECT_ID = \"[your-project-id]\"  # @param {type:\"string\"}\n",
    "    LOCATION = \"us-central1\"  # @param {type:\"string\"}\n",
    "\n",
    "    # Initialize Vertex AI\n",
    "    import vertexai\n",
    "\n",
    "    vertexai.init(project=PROJECT_ID, location=LOCATION)"
   ]
  },
  {
   "cell_type": "markdown",
   "metadata": {
    "id": "jXHfaVS66_01"
   },
   "source": [
    "### Import libraries"
   ]
  },
  {
   "cell_type": "code",
   "execution_count": 6,
   "metadata": {
    "id": "lslYAvw37JGQ"
   },
   "outputs": [],
   "source": [
    "from IPython.display import Markdown\n",
    "from langchain.chains import ConversationChain\n",
    "from langchain.memory import ConversationBufferMemory\n",
    "from langchain.prompts import (\n",
    "    ChatPromptTemplate,\n",
    "    HumanMessagePromptTemplate,\n",
    "    MessagesPlaceholder,\n",
    "    SystemMessagePromptTemplate,\n",
    ")\n",
    "from langchain_core.messages import HumanMessage, SystemMessage\n",
    "from langchain_google_vertexai import ChatVertexAI, HarmBlockThreshold, HarmCategory\n",
    "from vertexai.preview.generative_models import Content, GenerativeModel, Part"
   ]
  },
  {
   "cell_type": "markdown",
   "metadata": {
    "id": "4437b7608c8e"
   },
   "source": [
    "## Sending chat prompts using Vertex AI SDK for Python\n",
    "\n",
    "### Load the Gemini Pro model\n",
    "\n",
    "Gemini Pro supports text and code generation from a text prompt."
   ]
  },
  {
   "cell_type": "code",
   "execution_count": 7,
   "metadata": {
    "id": "2998506fe6d1"
   },
   "outputs": [],
   "source": [
    "model = GenerativeModel(\"gemini-pro\")"
   ]
  },
  {
   "cell_type": "markdown",
   "metadata": {
    "id": "wl2AZceWjXoy"
   },
   "source": [
    "### Start a chat session\n",
    "\n",
    "You start a stateful chat session and then send chat prompts with configuration parameters including generation configurations and safety settings."
   ]
  },
  {
   "cell_type": "code",
   "execution_count": 8,
   "metadata": {
    "id": "_vLprtHAjNOO"
   },
   "outputs": [
    {
     "name": "stdout",
     "output_type": "stream",
     "text": [
      "Mars has two moons, Phobos and Deimos.\n",
      "\n",
      "**Phobos:**\n",
      "- Phobos is the larger and closer of the two moons, with a diameter of about 22.2 kilometers.\n",
      "- It orbits Mars three times a day, completing one orbit in just 7 hours and 39 minutes. This makes it the fastest-orbiting moon in the solar system.\n",
      "- Phobos is heavily cratered, and its surface is covered in fine-grained dust.\n",
      "- It is thought to be a captured asteroid rather than a moon formed from the same material as Mars.\n",
      "\n",
      "**Deimos:**\n",
      "- Deimos is the smaller and farther of the two moons, with a diameter of about 12.6 kilometers.\n",
      "- It orbits Mars once every 30 hours and 18 minutes.\n",
      "- Deimos is less cratered than Phobos and has a smoother surface.\n",
      "- Its shape is irregular, and it is thought to be a captured asteroid or a fragment of a larger moon that was disrupted long ago.\n",
      "\n",
      "Fun facts about the moons of Mars:\n",
      "\n",
      "- The names Phobos and Deimos come from the Greek words for \"fear\" and \"terror,\" respectively. They were the sons of the Greek god Ares, who is the Roman equivalent of Mars.\n",
      "- Phobos is the only moon in the solar system known to have a retrograde orbit, meaning that it orbits Mars in the opposite direction of the planet's rotation.\n",
      "- Deimos is the outermost moon in the solar system.\n",
      "- Both Phobos and Deimos are thought to be relatively young, with ages of only a few hundred million years.\n",
      "- The moons of Mars are not visible from Earth with the naked eye, even with a telescope.\n"
     ]
    }
   ],
   "source": [
    "chat = model.start_chat()\n",
    "\n",
    "response = chat.send_message(\n",
    "    \"\"\"You are an astronomer, knowledgeable about the solar system.\n",
    "How many moons does Mars have? Tell me some fun facts about them.\n",
    "\"\"\"\n",
    ")\n",
    "\n",
    "print(response.text)"
   ]
  },
  {
   "cell_type": "markdown",
   "metadata": {
    "id": "e45ReUIxvTxX"
   },
   "source": [
    "You can use `Markdown` to display the generated text."
   ]
  },
  {
   "cell_type": "code",
   "execution_count": 9,
   "metadata": {
    "id": "8QU6brtOuyAx"
   },
   "outputs": [
    {
     "data": {
      "text/markdown": [
       "Mars has two moons, Phobos and Deimos.\n",
       "\n",
       "**Phobos:**\n",
       "- Phobos is the larger and closer of the two moons, with a diameter of about 22.2 kilometers.\n",
       "- It orbits Mars three times a day, completing one orbit in just 7 hours and 39 minutes. This makes it the fastest-orbiting moon in the solar system.\n",
       "- Phobos is heavily cratered, and its surface is covered in fine-grained dust.\n",
       "- It is thought to be a captured asteroid rather than a moon formed from the same material as Mars.\n",
       "\n",
       "**Deimos:**\n",
       "- Deimos is the smaller and farther of the two moons, with a diameter of about 12.6 kilometers.\n",
       "- It orbits Mars once every 30 hours and 18 minutes.\n",
       "- Deimos is less cratered than Phobos and has a smoother surface.\n",
       "- Its shape is irregular, and it is thought to be a captured asteroid or a fragment of a larger moon that was disrupted long ago.\n",
       "\n",
       "Fun facts about the moons of Mars:\n",
       "\n",
       "- The names Phobos and Deimos come from the Greek words for \"fear\" and \"terror,\" respectively. They were the sons of the Greek god Ares, who is the Roman equivalent of Mars.\n",
       "- Phobos is the only moon in the solar system known to have a retrograde orbit, meaning that it orbits Mars in the opposite direction of the planet's rotation.\n",
       "- Deimos is the outermost moon in the solar system.\n",
       "- Both Phobos and Deimos are thought to be relatively young, with ages of only a few hundred million years.\n",
       "- The moons of Mars are not visible from Earth with the naked eye, even with a telescope."
      ],
      "text/plain": [
       "<IPython.core.display.Markdown object>"
      ]
     },
     "execution_count": 9,
     "metadata": {},
     "output_type": "execute_result"
    }
   ],
   "source": [
    "Markdown(response.text)"
   ]
  },
  {
   "cell_type": "markdown",
   "metadata": {
    "id": "V2axT2nKuVzP"
   },
   "source": [
    "You can check out the metadata of the response including the `safety_ratings` and `usage_metedata`."
   ]
  },
  {
   "cell_type": "code",
   "execution_count": 10,
   "metadata": {
    "id": "ih0v9B1vspiF"
   },
   "outputs": [
    {
     "name": "stdout",
     "output_type": "stream",
     "text": [
      "candidates {\n",
      "  content {\n",
      "    role: \"model\"\n",
      "    parts {\n",
      "      text: \"Mars has two moons, Phobos and Deimos.\\n\\n**Phobos:**\\n- Phobos is the larger and closer of the two moons, with a diameter of about 22.2 kilometers.\\n- It orbits Mars three times a day, completing one orbit in just 7 hours and 39 minutes. This makes it the fastest-orbiting moon in the solar system.\\n- Phobos is heavily cratered, and its surface is covered in fine-grained dust.\\n- It is thought to be a captured asteroid rather than a moon formed from the same material as Mars.\\n\\n**Deimos:**\\n- Deimos is the smaller and farther of the two moons, with a diameter of about 12.6 kilometers.\\n- It orbits Mars once every 30 hours and 18 minutes.\\n- Deimos is less cratered than Phobos and has a smoother surface.\\n- Its shape is irregular, and it is thought to be a captured asteroid or a fragment of a larger moon that was disrupted long ago.\\n\\nFun facts about the moons of Mars:\\n\\n- The names Phobos and Deimos come from the Greek words for \\\"fear\\\" and \\\"terror,\\\" respectively. They were the sons of the Greek god Ares, who is the Roman equivalent of Mars.\\n- Phobos is the only moon in the solar system known to have a retrograde orbit, meaning that it orbits Mars in the opposite direction of the planet\\'s rotation.\\n- Deimos is the outermost moon in the solar system.\\n- Both Phobos and Deimos are thought to be relatively young, with ages of only a few hundred million years.\\n- The moons of Mars are not visible from Earth with the naked eye, even with a telescope.\"\n",
      "    }\n",
      "  }\n",
      "  finish_reason: STOP\n",
      "  safety_ratings {\n",
      "    category: HARM_CATEGORY_HARASSMENT\n",
      "    probability: NEGLIGIBLE\n",
      "  }\n",
      "  safety_ratings {\n",
      "    category: HARM_CATEGORY_HATE_SPEECH\n",
      "    probability: NEGLIGIBLE\n",
      "  }\n",
      "  safety_ratings {\n",
      "    category: HARM_CATEGORY_SEXUALLY_EXPLICIT\n",
      "    probability: NEGLIGIBLE\n",
      "  }\n",
      "  safety_ratings {\n",
      "    category: HARM_CATEGORY_DANGEROUS_CONTENT\n",
      "    probability: NEGLIGIBLE\n",
      "  }\n",
      "}\n",
      "usage_metadata {\n",
      "  prompt_token_count: 28\n",
      "  candidates_token_count: 361\n",
      "  total_token_count: 389\n",
      "}\n",
      "\n"
     ]
    }
   ],
   "source": [
    "print(response)"
   ]
  },
  {
   "cell_type": "markdown",
   "metadata": {
    "id": "ZuHvZevgwdj5"
   },
   "source": [
    "You can retrieve the history of the chat session."
   ]
  },
  {
   "cell_type": "code",
   "execution_count": 11,
   "metadata": {
    "id": "FYuqKyyktFq7"
   },
   "outputs": [
    {
     "name": "stdout",
     "output_type": "stream",
     "text": [
      "[role: \"user\"\n",
      "parts {\n",
      "  text: \"You are an astronomer, knowledgeable about the solar system.\\nHow many moons does Mars have? Tell me some fun facts about them.\\n\"\n",
      "}\n",
      ", role: \"model\"\n",
      "parts {\n",
      "  text: \"Mars has two moons, Phobos and Deimos.\\n\\n**Phobos:**\\n- Phobos is the larger and closer of the two moons, with a diameter of about 22.2 kilometers.\\n- It orbits Mars three times a day, completing one orbit in just 7 hours and 39 minutes. This makes it the fastest-orbiting moon in the solar system.\\n- Phobos is heavily cratered, and its surface is covered in fine-grained dust.\\n- It is thought to be a captured asteroid rather than a moon formed from the same material as Mars.\\n\\n**Deimos:**\\n- Deimos is the smaller and farther of the two moons, with a diameter of about 12.6 kilometers.\\n- It orbits Mars once every 30 hours and 18 minutes.\\n- Deimos is less cratered than Phobos and has a smoother surface.\\n- Its shape is irregular, and it is thought to be a captured asteroid or a fragment of a larger moon that was disrupted long ago.\\n\\nFun facts about the moons of Mars:\\n\\n- The names Phobos and Deimos come from the Greek words for \\\"fear\\\" and \\\"terror,\\\" respectively. They were the sons of the Greek god Ares, who is the Roman equivalent of Mars.\\n- Phobos is the only moon in the solar system known to have a retrograde orbit, meaning that it orbits Mars in the opposite direction of the planet\\'s rotation.\\n- Deimos is the outermost moon in the solar system.\\n- Both Phobos and Deimos are thought to be relatively young, with ages of only a few hundred million years.\\n- The moons of Mars are not visible from Earth with the naked eye, even with a telescope.\"\n",
      "}\n",
      "]\n"
     ]
    }
   ],
   "source": [
    "print(chat.history)"
   ]
  },
  {
   "cell_type": "markdown",
   "metadata": {
    "id": "kiS2CywXxU2y"
   },
   "source": [
    "### Code chat\n",
    "\n",
    "Gemini Pro also supports code generation from a text prompt."
   ]
  },
  {
   "cell_type": "code",
   "execution_count": 12,
   "metadata": {
    "id": "1lWiPGQ-cDqC"
   },
   "outputs": [
    {
     "name": "stdout",
     "output_type": "stream",
     "text": [
      "```python\n",
      "def is_leap_year(year):\n",
      "  \"\"\"\n",
      "  Checks if a year is a leap year.\n",
      "\n",
      "  Args:\n",
      "    year: The year to check.\n",
      "\n",
      "  Returns:\n",
      "    True if the year is a leap year, False otherwise.\n",
      "  \"\"\"\n",
      "\n",
      "  if year % 4 != 0:\n",
      "    return False\n",
      "\n",
      "  if year % 100 == 0 and year % 400 != 0:\n",
      "    return False\n",
      "\n",
      "  return True\n",
      "```\n"
     ]
    }
   ],
   "source": [
    "code_chat = model.start_chat()\n",
    "\n",
    "response = code_chat.send_message(\n",
    "    \"Write a function that checks if a year is a leap year\"\n",
    ")\n",
    "\n",
    "print(response.text)"
   ]
  },
  {
   "cell_type": "markdown",
   "metadata": {
    "id": "kI781aqpy-lH"
   },
   "source": [
    "You can generate unit tests to test the function in this multi-turn chat."
   ]
  },
  {
   "cell_type": "code",
   "execution_count": 13,
   "metadata": {
    "id": "TGHToON4xyOV"
   },
   "outputs": [
    {
     "name": "stdout",
     "output_type": "stream",
     "text": [
      "```python\n",
      "import unittest\n",
      "\n",
      "class LeapYearTest(unittest.TestCase):\n",
      "\n",
      "    def test_is_leap_year_1900(self):\n",
      "        self.assertFalse(is_leap_year(1900))\n",
      "\n",
      "    def test_is_leap_year_2000(self):\n",
      "        self.assertTrue(is_leap_year(2000))\n",
      "\n",
      "    def test_is_leap_year_2004(self):\n",
      "        self.assertTrue(is_leap_year(2004))\n",
      "\n",
      "    def test_is_leap_year_2008(self):\n",
      "        self.assertTrue(is_leap_year(2008))\n",
      "\n",
      "    def test_is_leap_year_2012(self):\n",
      "        self.assertTrue(is_leap_year(2012))\n",
      "\n",
      "    def test_is_leap_year_2016(self):\n",
      "        self.assertTrue(is_leap_year(2016))\n",
      "\n",
      "    def test_is_leap_year_2020(self):\n",
      "        self.assertTrue(is_leap_year(2020))\n",
      "\n",
      "    def test_is_leap_year_2024(self):\n",
      "        self.assertTrue(is_leap_year(2024))\n",
      "\n",
      "    def test_is_leap_year_2028(self):\n",
      "        self.assertTrue(is_leap_year(2028))\n",
      "\n",
      "    def test_is_leap_year_2032(self):\n",
      "        self.assertTrue(is_leap_year(2032))\n",
      "\n",
      "    def test_is_leap_year_2036(self):\n",
      "        self.assertTrue(is_leap_year(2036))\n",
      "\n",
      "    def test_is_leap_year_2040(self):\n",
      "        self.assertFalse(is_leap_year(2040))\n",
      "\n",
      "    def test_is_leap_year_2044(self):\n",
      "        self.assertTrue(is_leap_year(2044))\n",
      "\n",
      "    def test_is_leap_year_2048(self):\n",
      "        self.assertTrue(is_leap_year(2048))\n",
      "\n",
      "if __name__ == '__main__':\n",
      "    unittest.main()\n",
      "```\n"
     ]
    }
   ],
   "source": [
    "response = code_chat.send_message(\"Write a unit test of the generated function\")\n",
    "\n",
    "print(response.text)"
   ]
  },
  {
   "cell_type": "markdown",
   "metadata": {
    "id": "jeZNScL7Ci2A"
   },
   "source": [
    "### Add chat history\n",
    "\n",
    "You can add chat history to a chat by adding messages from role `user` and `model` alternately. System messages can be set in the first part for the first message."
   ]
  },
  {
   "cell_type": "code",
   "execution_count": 14,
   "metadata": {
    "id": "JzqUThJv77G9"
   },
   "outputs": [
    {
     "data": {
      "text/markdown": [
       "Yes, Ned's favorite movies, Lord of the Rings and Hobbit, are both based on a book series.\n",
       "\n",
       "* The Lord of the Rings is based on the novel of the same name by J.R.R. Tolkien.\n",
       "* The Hobbit is based on the novel of the same name by J.R.R. Tolkien."
      ],
      "text/plain": [
       "<IPython.core.display.Markdown object>"
      ]
     },
     "execution_count": 14,
     "metadata": {},
     "output_type": "execute_result"
    }
   ],
   "source": [
    "chat2 = model.start_chat(\n",
    "    history=[\n",
    "        Content(\n",
    "            role=\"user\",\n",
    "            parts=[\n",
    "                Part.from_text(\n",
    "                    \"\"\"\n",
    "    My name is Ned. You are my personal assistant. My favorite movies are Lord of the Rings and Hobbit.\n",
    "    Who do you work for?\n",
    "    \"\"\"\n",
    "                )\n",
    "            ],\n",
    "        ),\n",
    "        Content(role=\"model\", parts=[Part.from_text(\"I work for Ned.\")]),\n",
    "        Content(role=\"user\", parts=[Part.from_text(\"What do I like?\")]),\n",
    "        Content(role=\"model\", parts=[Part.from_text(\"Ned likes watching movies.\")]),\n",
    "    ]\n",
    ")\n",
    "\n",
    "response = chat2.send_message(\"Are my favorite movies based on a book series?\")\n",
    "Markdown(response.text)"
   ]
  },
  {
   "cell_type": "code",
   "execution_count": 15,
   "metadata": {
    "id": "G64BrDoxC-K3"
   },
   "outputs": [
    {
     "data": {
      "text/markdown": [
       "* **The Hobbit:** 1937\n",
       "* **The Lord of the Rings:** 1954–1955\n",
       "\n",
       "The Lord of the Rings is actually a sequel to The Hobbit, and both are set in the same fictional universe of Middle-earth."
      ],
      "text/plain": [
       "<IPython.core.display.Markdown object>"
      ]
     },
     "execution_count": 15,
     "metadata": {},
     "output_type": "execute_result"
    }
   ],
   "source": [
    "response = chat2.send_message(\"When were these books published?\")\n",
    "Markdown(response.text)"
   ]
  },
  {
   "cell_type": "markdown",
   "metadata": {
    "id": "WFlnwb0u54iN"
   },
   "source": [
    "## Sending chat prompts using LangChain\n",
    "\n",
    "The Vertex AI Gemini API is integrated with the LangChain Python SDK, making it convenient to build applications on top of Gemini models."
   ]
  },
  {
   "cell_type": "markdown",
   "metadata": {
    "id": "ga2YnFYPXZgh"
   },
   "source": [
    "### Start a chat session\n",
    "\n",
    "You can start a chat by sending chat prompts to the Gemini Pro model directly. Gemini Pro doesn’t support `SystemMessage` at the moment, but `SystemMessage` can be added to the first human message by setting the `convert_system_message_to_human` to `True`."
   ]
  },
  {
   "cell_type": "code",
   "execution_count": 16,
   "metadata": {
    "id": "s41n0UEwGVZV"
   },
   "outputs": [
    {
     "name": "stdout",
     "output_type": "stream",
     "text": [
      "J'adore la programmation.\n"
     ]
    }
   ],
   "source": [
    "system_message = \"You are a helpful assistant who translates English to French.\"\n",
    "human_message = \"Translate this sentence from English to French. I love programming.\"\n",
    "\n",
    "messages = [SystemMessage(content=system_message), HumanMessage(content=human_message)]\n",
    "\n",
    "chat = ChatVertexAI(\n",
    "    model_name=\"gemini-pro\",\n",
    "    convert_system_message_to_human=True,\n",
    "    safety_settings={\n",
    "        HarmCategory.HARM_CATEGORY_HATE_SPEECH: HarmBlockThreshold.BLOCK_LOW_AND_ABOVE\n",
    "    },\n",
    ")\n",
    "\n",
    "result = chat.generate([messages])\n",
    "print(result.generations[0][0].text)"
   ]
  },
  {
   "cell_type": "markdown",
   "metadata": {
    "id": "4VprmGzu4FPO"
   },
   "source": [
    "You can check out the metadata of the generated content."
   ]
  },
  {
   "cell_type": "code",
   "execution_count": 17,
   "metadata": {
    "id": "hBLFXgzsIJhw"
   },
   "outputs": [
    {
     "name": "stdout",
     "output_type": "stream",
     "text": [
      "{'is_blocked': False, 'safety_ratings': [{'category': 'HARM_CATEGORY_HARASSMENT', 'probability_label': 'NEGLIGIBLE'}, {'category': 'HARM_CATEGORY_HATE_SPEECH', 'probability_label': 'NEGLIGIBLE'}, {'category': 'HARM_CATEGORY_SEXUALLY_EXPLICIT', 'probability_label': 'NEGLIGIBLE'}, {'category': 'HARM_CATEGORY_DANGEROUS_CONTENT', 'probability_label': 'NEGLIGIBLE'}]}\n"
     ]
    }
   ],
   "source": [
    "print(result.generations[0][0].generation_info)"
   ]
  },
  {
   "cell_type": "markdown",
   "metadata": {
    "id": "RgYHzIUP4PMo"
   },
   "source": [
    "### Use a chat chain with chat prompt template"
   ]
  },
  {
   "cell_type": "code",
   "execution_count": 18,
   "metadata": {
    "id": "9vZr5vyrV-eI"
   },
   "outputs": [
    {
     "data": {
      "text/plain": [
       "AIMessage(content=\"J'aime la programmation.\")"
      ]
     },
     "execution_count": 18,
     "metadata": {},
     "output_type": "execute_result"
    }
   ],
   "source": [
    "system_message = \"You are a helpful assistant who translates English to French.\"\n",
    "human_message = \"Translate this sentence from English to French. I love programming.\"\n",
    "\n",
    "messages = [SystemMessage(content=system_message), HumanMessage(content=human_message)]\n",
    "prompt = ChatPromptTemplate.from_messages(messages)\n",
    "\n",
    "chat = ChatVertexAI(\n",
    "    model_name=\"gemini-pro\",\n",
    "    convert_system_message_to_human=True,\n",
    "    safety_settings={\n",
    "        HarmCategory.HARM_CATEGORY_HATE_SPEECH: HarmBlockThreshold.BLOCK_LOW_AND_ABOVE\n",
    "    },\n",
    ")\n",
    "\n",
    "chain = prompt | chat\n",
    "chain.invoke({})"
   ]
  },
  {
   "cell_type": "markdown",
   "metadata": {
    "id": "lB50i-JG9RQp"
   },
   "source": [
    "### Use a conversation chain\n",
    "\n",
    "You also can wrap up a chat in `ConversationChain`, which has built-in memory for remembering past user inputs and model outputs."
   ]
  },
  {
   "cell_type": "code",
   "execution_count": 19,
   "metadata": {
    "id": "UFxQ6AN_5vDQ"
   },
   "outputs": [
    {
     "name": "stderr",
     "output_type": "stream",
     "text": [
      "/usr/local/lib/python3.10/dist-packages/langchain_core/_api/deprecation.py:117: LangChainDeprecationWarning: The function `run` was deprecated in LangChain 0.1.0 and will be removed in 0.2.0. Use invoke instead.\n",
      "  warn_deprecated(\n"
     ]
    },
    {
     "name": "stdout",
     "output_type": "stream",
     "text": [
      "\n",
      "\n",
      "\u001b[1m> Entering new ConversationChain chain...\u001b[0m\n",
      "Prompt after formatting:\n",
      "\u001b[32;1m\u001b[1;3mSystem: You are a helpful assistant who is good at language translation.\n",
      "Human: Translate this sentence from English to French. I love programming.\u001b[0m\n",
      "\n",
      "\u001b[1m> Finished chain.\u001b[0m\n"
     ]
    },
    {
     "data": {
      "application/vnd.google.colaboratory.intrinsic+json": {
       "type": "string"
      },
      "text/plain": [
       "\"J'aime la programmation.\""
      ]
     },
     "execution_count": 19,
     "metadata": {},
     "output_type": "execute_result"
    }
   ],
   "source": [
    "model = ChatVertexAI(\n",
    "    model_name=\"gemini-pro\",\n",
    "    convert_system_message_to_human=True,\n",
    "    safety_settings={\n",
    "        HarmCategory.HARM_CATEGORY_HATE_SPEECH: HarmBlockThreshold.BLOCK_LOW_AND_ABOVE\n",
    "    },\n",
    ")\n",
    "\n",
    "prompt = ChatPromptTemplate(\n",
    "    messages=[\n",
    "        SystemMessagePromptTemplate.from_template(\n",
    "            \"You are a helpful assistant who is good at language translation.\"\n",
    "        ),\n",
    "        MessagesPlaceholder(variable_name=\"history\"),\n",
    "        HumanMessagePromptTemplate.from_template(\"{input}\"),\n",
    "    ]\n",
    ")\n",
    "\n",
    "memory = ConversationBufferMemory(memory_key=\"history\", return_messages=True)\n",
    "conversation = ConversationChain(llm=model, prompt=prompt, verbose=True, memory=memory)\n",
    "\n",
    "conversation.run(\n",
    "    input=\"Translate this sentence from English to French. I love programming.\"\n",
    ")"
   ]
  },
  {
   "cell_type": "code",
   "execution_count": 20,
   "metadata": {
    "id": "AJMP2JrMDmS-"
   },
   "outputs": [
    {
     "name": "stdout",
     "output_type": "stream",
     "text": [
      "\n",
      "\n",
      "\u001b[1m> Entering new ConversationChain chain...\u001b[0m\n",
      "Prompt after formatting:\n",
      "\u001b[32;1m\u001b[1;3mSystem: You are a helpful assistant who is good at language translation.\n",
      "Human: Translate this sentence from English to French. I love programming.\n",
      "AI: J'aime la programmation.\n",
      "Human: Translate it to Spanish\u001b[0m\n",
      "\n",
      "\u001b[1m> Finished chain.\u001b[0m\n"
     ]
    },
    {
     "data": {
      "application/vnd.google.colaboratory.intrinsic+json": {
       "type": "string"
      },
      "text/plain": [
       "'Me encanta la programación.'"
      ]
     },
     "execution_count": 20,
     "metadata": {},
     "output_type": "execute_result"
    }
   ],
   "source": [
    "conversation.run(\"Translate it to Spanish\")"
   ]
  }
 ],
 "metadata": {
  "colab": {
   "name": "intro_gemini_chat.ipynb",
   "toc_visible": true
  },
  "kernelspec": {
   "display_name": "Python 3",
   "name": "python3"
  }
 },
 "nbformat": 4,
 "nbformat_minor": 0
}
